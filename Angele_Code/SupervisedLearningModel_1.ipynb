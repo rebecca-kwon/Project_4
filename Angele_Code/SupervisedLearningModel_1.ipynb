{
 "cells": [
  {
   "cell_type": "code",
   "execution_count": null,
   "metadata": {
    "id": "_it6aLHbI-yd"
   },
   "outputs": [],
   "source": [
    "# importing dependencies\n",
    "import numpy as np\n",
    "import pandas as pd\n",
    "import warnings\n",
    "warnings.filterwarnings('ignore')\n",
    "\n",
    "%matplotlib inline\n",
    "from matplotlib import pyplot as plt\n"
   ]
  },
  {
   "cell_type": "code",
   "execution_count": null,
   "metadata": {
    "id": "zdagpzUGPEoa"
   },
   "outputs": [],
   "source": [
    "# reading in data file\n",
    "df = pd.read_csv('../Resources/application_train.csv')\n"
   ]
  },
  {
   "cell_type": "code",
   "execution_count": null,
   "metadata": {
    "colab": {
     "base_uri": "https://localhost:8080/",
     "height": 488
    },
    "id": "xZD8eLRMMmiD",
    "outputId": "26a5cf38-b430-40ae-fb6e-108b3cdb79f3"
   },
   "outputs": [],
   "source": [
    "# viewing the dataframe\n",
    "df"
   ]
  },
  {
   "cell_type": "code",
   "execution_count": null,
   "metadata": {
    "colab": {
     "base_uri": "https://localhost:8080/",
     "height": 488
    },
    "id": "h5trVSXB4QGQ",
    "outputId": "41f4f0b0-6257-431f-d9bb-c38955cf986c"
   },
   "outputs": [],
   "source": [
    "#Check for and remove outliers\n",
    "from scipy import stats\n",
    "num_types = ['int16', 'int32', 'int64', 'float16', 'float32', 'float64']\n",
    "df[(np.abs(stats.zscore(df.select_dtypes(include=num_types), nan_policy='omit')) < 3).all(axis=1)]\n",
    "df"
   ]
  },
  {
   "cell_type": "markdown",
   "metadata": {
    "id": "7xjEzEeAStCj"
   },
   "source": [
    "#### No outliers detected in the data."
   ]
  },
  {
   "cell_type": "code",
   "execution_count": null,
   "metadata": {
    "colab": {
     "base_uri": "https://localhost:8080/",
     "height": 488
    },
    "id": "WhSsfDfeS17y",
    "outputId": "56e2c76b-e5f5-4908-b64e-e0039435f6d8"
   },
   "outputs": [],
   "source": [
    "# removing columns that are less relevant to analysis\n",
    "df2 = df.drop(['FLAG_MOBIL', \"FLAG_EMP_PHONE\",\"FLAG_WORK_PHONE\", \"FLAG_CONT_MOBILE\", \"FLAG_EMAIL\", \"REG_REGION_NOT_LIVE_REGION\", \"REG_REGION_NOT_WORK_REGION\", \"LIVE_REGION_NOT_WORK_REGION\", \"REG_CITY_NOT_LIVE_CITY\", \"REG_CITY_NOT_WORK_CITY\", \"LIVE_CITY_NOT_WORK_CITY\", \"FLAG_DOCUMENT_2\", \"FLAG_DOCUMENT_3\", \n",
    "               \"FLAG_DOCUMENT_4\", \"FLAG_DOCUMENT_5\", \"FLAG_DOCUMENT_6\", \"FLAG_DOCUMENT_7\", \"FLAG_DOCUMENT_8\", \"FLAG_DOCUMENT_9\", \"FLAG_DOCUMENT_10\", \"FLAG_DOCUMENT_11\", \"FLAG_DOCUMENT_12\", \"FLAG_DOCUMENT_13\", \"FLAG_DOCUMENT_14\", \"FLAG_DOCUMENT_15\", \"FLAG_DOCUMENT_16\", \"FLAG_DOCUMENT_17\", \"FLAG_DOCUMENT_18\", \"FLAG_DOCUMENT_19\",\n",
    "               \"FLAG_DOCUMENT_21\", \"_id\", \"SK_ID_CURR\"], axis=1)\n",
    "\n",
    "df2"
   ]
  },
  {
   "cell_type": "code",
   "execution_count": null,
   "metadata": {
    "colab": {
     "base_uri": "https://localhost:8080/",
     "height": 1000
    },
    "id": "Bni7KxltNptP",
    "outputId": "b4301861-a591-4eac-e585-7d691f089943"
   },
   "outputs": [],
   "source": [
    "# displaying the data types\n",
    "pd.set_option('display.max_rows', None)\n",
    "display(df2.dtypes)"
   ]
  },
  {
   "cell_type": "code",
   "execution_count": null,
   "metadata": {
    "colab": {
     "base_uri": "https://localhost:8080/"
    },
    "id": "S8W3kM7PaUAm",
    "outputId": "b81b6cdb-744e-4b2f-a753-d003b8a4454f"
   },
   "outputs": [],
   "source": [
    "# counting the number of nulls in each column\n",
    "new_null= print(df2.isnull().sum())"
   ]
  },
  {
   "cell_type": "code",
   "execution_count": null,
   "metadata": {
    "colab": {
     "base_uri": "https://localhost:8080/",
     "height": 488
    },
    "id": "WNQyN2wNSHSX",
    "outputId": "d49a4a73-a7cd-43e7-a165-6a981b071942"
   },
   "outputs": [],
   "source": [
    "# removing null values from dataframe\n",
    "pd.set_option('display.max_rows', 10)\n",
    "no_nulls = df2.dropna(axis=0)\n",
    "\n",
    "no_nulls"
   ]
  },
  {
   "cell_type": "code",
   "execution_count": null,
   "metadata": {
    "id": "HNz8EovNMp-T"
   },
   "outputs": [],
   "source": [
    "## Data Preprocessing\n",
    "X = df2.drop('TARGET',1)\n",
    "y = df2['TARGET']\n"
   ]
  },
  {
   "cell_type": "code",
   "execution_count": null,
   "metadata": {
    "colab": {
     "base_uri": "https://localhost:8080/",
     "height": 488
    },
    "id": "wgEmyBtjNLYM",
    "outputId": "f9eeaa40-265f-4160-aad1-c17019e1b319"
   },
   "outputs": [],
   "source": [
    "# one-hot encoding for categorical variables\n",
    "categorical_variables = ['EMERGENCYSTATE_MODE', 'FLAG_OWN_CAR', 'FLAG_OWN_REALTY', 'FONDKAPREMONT_MODE', 'HOUSETYPE_MODE',\n",
    "                         'NAME_CONTRACT_TYPE', 'NAME_EDUCATION_TYPE', 'NAME_FAMILY_STATUS', 'NAME_HOUSING_TYPE',\n",
    "                         'NAME_INCOME_TYPE', 'NAME_TYPE_SUITE', 'OCCUPATION_TYPE', 'ORGANIZATION_TYPE', \n",
    "                         'WALLSMATERIAL_MODE', 'WEEKDAY_APPR_PROCESS_START', 'CODE_GENDER']\n",
    "                \n",
    "for variable in categorical_variables:\n",
    "  discarded= pd.get_dummies(X[variable], prefix=variable)\n",
    "  X= pd.concat([X, discarded], axis = 1)\n",
    "  X.drop([variable], axis=1, inplace=True)\n",
    "\n",
    "X"
   ]
  },
  {
   "cell_type": "code",
   "execution_count": null,
   "metadata": {
    "colab": {
     "base_uri": "https://localhost:8080/",
     "height": 1000
    },
    "id": "PQZ4jIwqWZEJ",
    "outputId": "b2fa8f2b-50a1-4a22-f2c1-9f948eacb64c"
   },
   "outputs": [],
   "source": [
    "# displaying the data types in X after one-hot encoding\n",
    "pd.set_option('display.max_rows', None)\n",
    "display(X.dtypes)"
   ]
  },
  {
   "cell_type": "code",
   "execution_count": null,
   "metadata": {
    "id": "UoDDbP8MYy4i"
   },
   "outputs": [],
   "source": [
    "# viewing the correlations of the X dataframe\n",
    "#X.corr()"
   ]
  },
  {
   "cell_type": "code",
   "execution_count": null,
   "metadata": {
    "colab": {
     "base_uri": "https://localhost:8080/"
    },
    "id": "r-M7jJcRM1kv",
    "outputId": "213aa416-0154-4dc5-e7fc-1d0d2f5758b9"
   },
   "outputs": [],
   "source": [
    "# viewing y dataframe\n",
    "pd.set_option('display.max_rows', 10)\n",
    "y"
   ]
  },
  {
   "cell_type": "code",
   "execution_count": null,
   "metadata": {
    "id": "Wd19_H1lm3fK"
   },
   "outputs": [],
   "source": [
    "#Use SimpleImputer to replace missing values\n",
    "from sklearn.impute import SimpleImputer\n",
    "simple_imp= SimpleImputer( strategy='most_frequent')\n",
    "simple_imp.fit(X)\n",
    "imputed_train_df = simple_imp.transform(X)"
   ]
  },
  {
   "cell_type": "code",
   "execution_count": null,
   "metadata": {
    "colab": {
     "base_uri": "https://localhost:8080/",
     "height": 424
    },
    "id": "9QyluF88pcM-",
    "outputId": "ae3fddfc-2dbb-47a3-df36-23326ffb39ac"
   },
   "outputs": [],
   "source": [
    "imputed_train_df = pd.DataFrame(imputed_train_df)\n",
    "imputed_train_df"
   ]
  },
  {
   "cell_type": "code",
   "execution_count": null,
   "metadata": {
    "colab": {
     "base_uri": "https://localhost:8080/"
    },
    "id": "4Oy7MH5mql3M",
    "outputId": "b67170d6-527d-4c82-8712-9630ede366f7"
   },
   "outputs": [],
   "source": [
    "imputed_train_df.isnull().values.any()"
   ]
  },
  {
   "cell_type": "code",
   "execution_count": null,
   "metadata": {
    "id": "zYkMJ2HaStCw"
   },
   "outputs": [],
   "source": [
    "# saving results to csv file\n",
    "simple_imputationX = imputed_train_df.to_csv(\"simple_imputationX.csv\")\n",
    "y_application = y.to_csv(\"y.csv\")"
   ]
  },
  {
   "cell_type": "code",
   "execution_count": null,
   "metadata": {
    "id": "YtbuJ5du8m7i"
   },
   "outputs": [],
   "source": [
    "# reading in data for random forest classifier\n",
    "X = pd.read_csv('simple_imputationX.csv')\n",
    "y = pd.read_csv('y.csv')"
   ]
  },
  {
   "cell_type": "markdown",
   "metadata": {
    "id": "6gPI_NkeZJAU"
   },
   "source": [
    "Dimensionality Reduction"
   ]
  },
  {
   "cell_type": "code",
   "execution_count": null,
   "metadata": {
    "id": "-5tTPoOJ8m0D"
   },
   "outputs": [],
   "source": [
    "# perform train/test split, scaling\n",
    "from sklearn.model_selection import train_test_split\n",
    "from sklearn.preprocessing import StandardScaler\n",
    "X_train, X_test, y_train, y_test = train_test_split(X, y, random_state=1)"
   ]
  },
  {
   "cell_type": "code",
   "execution_count": null,
   "metadata": {
    "id": "2oV6X1JYUk1H"
   },
   "outputs": [],
   "source": [
    "#Fit Random Forest model for dimensionality reduction\n",
    "from sklearn.ensemble import RandomForestClassifier\n",
    "\n",
    "clf = RandomForestClassifier(random_state=1, n_estimators=500).fit(X_train, y_train)\n",
    "print(f'Training Score: {clf.score(X_train, y_train)}')\n",
    "print(f'Testing Score: {clf.score(X_test, y_test)}')"
   ]
  },
  {
   "cell_type": "code",
   "execution_count": null,
   "metadata": {
    "id": "qH5E6u05UlGd"
   },
   "outputs": [],
   "source": [
    "# plotting the features to determine their importance in the model\n",
    "features = sorted(zip(X.columns, clf.feature_importances_), key = lambda x: x[1])\n",
    "cols = [f[0] for f in features]\n",
    "width = [f[1] for f in features]\n",
    "fig, ax = plt.subplots()\n",
    "fig.set_size_inches(10,200)\n",
    "plt.margins(y=0.001)\n",
    "ax.barh(y=cols, width=width)\n",
    "plt.show()"
   ]
  },
  {
   "cell_type": "code",
   "execution_count": null,
   "metadata": {
    "id": "QFQDEJY8XxgJ"
   },
   "outputs": [],
   "source": [
    "# Import and fit SelectFromModel\n",
    "from sklearn.feature_selection import SelectFromModel\n",
    "sel = SelectFromModel(clf)\n",
    "sel.fit(X_train_scaled, y_train)"
   ]
  },
  {
   "cell_type": "code",
   "execution_count": null,
   "metadata": {
    "id": "0o_zGKvIYTHf"
   },
   "outputs": [],
   "source": [
    "# Use selector to transform X\n",
    "X_selected_train, X_selected_test, y_train, y_test = train_test_split(sel.transform(X), y, random_state=1)\n",
    "scaler = StandardScaler().fit(X_selected_train)\n",
    "X_selected_train_scaled = scaler.transform(X_selected_train)\n",
    "X_selected_test_scaled = scaler.transform(X_selected_test)"
   ]
  },
  {
   "cell_type": "markdown",
   "metadata": {
    "id": "CVh8Iuk6ZLZR"
   },
   "source": [
    "Supervised Learning Model"
   ]
  },
  {
   "cell_type": "code",
   "execution_count": null,
   "metadata": {
    "id": "mA2i85_Ncmfi"
   },
   "outputs": [],
   "source": [
    "# import and creat logistic regression classifier\n",
    "from sklearn.linear_model import LogisticRegression\n",
    "classifier = LogisticRegression()\n",
    "classifier\n"
   ]
  },
  {
   "cell_type": "code",
   "execution_count": null,
   "metadata": {
    "id": "Pp_p2k3_cyKW"
   },
   "outputs": [],
   "source": [
    "# fit the model to reduced, scaled datset\n",
    "classifier.fit(X_selected_train_scaled, y_train)"
   ]
  },
  {
   "cell_type": "code",
   "execution_count": null,
   "metadata": {
    "id": "4cNnu_vYdl1l"
   },
   "outputs": [],
   "source": [
    "# fit the model score\n",
    "print(f\"Training Data Score: {classifier.score(X_selected_train_scaled, y_train)}\")\n",
    "print(f\"Testing Score: {classifier.score(X_selected_test_scaled, y_test)}\")"
   ]
  },
  {
   "cell_type": "code",
   "execution_count": null,
   "metadata": {
    "id": "svxxzlWifF0h"
   },
   "outputs": [],
   "source": [
    "# generate confusion matrix for logistic regression\n",
    "y_true = y_test\n",
    "y_pred = classifier.predict(X_selected_test_scaled)\n",
    "cm = confusion_matrix(y_true, y_pred)\n",
    "cm"
   ]
  },
  {
   "cell_type": "code",
   "execution_count": null,
   "metadata": {
    "id": "8boki6HRfewt"
   },
   "outputs": [],
   "source": [
    "# generate classification report for logistic regression\n",
    "print(classification_report(y_true, y_pred)"
   ]
  },
  {
   "cell_type": "code",
   "execution_count": null,
   "metadata": {
    "id": "kUTQcV8qfk1X"
   },
   "outputs": [],
   "source": [
    "# import linear svc classifier\n",
    "from sklearn.svm import LinearSVC"
   ]
  },
  {
   "cell_type": "code",
   "execution_count": null,
   "metadata": {
    "id": "_iXU9r9efqql"
   },
   "outputs": [],
   "source": [
    "# attempt lineaer support vector classification\n",
    "lin_svc_classifier = LinearSVC(randwom_state=1). fit(X_selected_train_scale, y_train)\n",
    "y_pred = lin_svc_classifier.predict(X_selected_test_scaled)\n",
    "print(classificatoin_report(y_Test, y_pred, target_Names-target_names))\n",
    "print(f'Training Score: {lin_svc_classifier.score(X_selected_train_scaled, y_train)}')\n",
    "print(f'Training Score: {lin_svc_classifier.score(X_selected_train_scaled, y_train)}')\n"
   ]
  },
  {
   "cell_type": "code",
   "execution_count": null,
   "metadata": {
    "id": "I0yoq8kUg9dB"
   },
   "outputs": [],
   "source": [
    "#import K-nearest neighbor classifier\n",
    "from sklearn.neighbors import KNeighborsClassifier"
   ]
  },
  {
   "cell_type": "code",
   "execution_count": null,
   "metadata": {
    "id": "i8Gl6TpNg-aK"
   },
   "outputs": [],
   "source": [
    "# perform KNN classification, to find the most optimal value of k\n",
    "# Loop through different k values to find which has the highest accuracy.\n",
    "# Note: We use only odd numbers because we don't want any ties.\n",
    "train_scores = []\n",
    "test_scores = []\n",
    "for k in range(1, 20, 2):\n",
    "    knn = KNeighborsClassifier(n_neighbors=k)\n",
    "    knn.fit(X_train_scaled, y_train)\n",
    "    train_score = knn.score(X_train_scaled, y_train)\n",
    "    test_score = knn.score(X_test_scaled, y_test)\n",
    "    train_scores.append(train_score)\n",
    "    test_scores.append(test_score)\n",
    "    print(f\"k: {k}, Train/Test Score: {train_score:.3f}/{test_score:.3f}\")\n",
    "    \n",
    "    \n",
    "plt.plot(range(1, 20, 2), train_scores, marker='o')\n",
    "plt.plot(range(1, 20, 2), test_scores, marker=\"x\")\n",
    "plt.xlabel(\"k neighbors\")\n",
    "plt.ylabel(\"Testing accuracy score\")\n",
    "plt.show()"
   ]
  },
  {
   "cell_type": "code",
   "execution_count": null,
   "metadata": {
    "id": "0IqGXsILhkB9"
   },
   "outputs": [],
   "source": [
    "# using k value selection, perform KNN Classification, and print report to compare\n"
   ]
  },
  {
   "cell_type": "code",
   "execution_count": null,
   "metadata": {
    "id": "8pA1l-K4gLxT"
   },
   "outputs": [],
   "source": [
    "# import an extremely randomw trees classifier\n",
    "from sklearn.ensemble import ExtraTreesClassifier"
   ]
  },
  {
   "cell_type": "code",
   "execution_count": null,
   "metadata": {
    "id": "xyPCycyKgR53"
   },
   "outputs": [],
   "source": [
    "# fit RandomTressClassifier, and print classification report to compare\n",
    "ext_classifier= ExtraTreesClassifier(raond_state=1).fit(X_Selected_train_selected, y_train)"
   ]
  },
  {
   "cell_type": "code",
   "execution_count": null,
   "metadata": {
    "id": "u534PwiAaIOV"
   },
   "outputs": [],
   "source": [
    "# Note that k: xx seems to be the best choice for this dataset\n",
    "knn = KNeighborsClassifier(n_neighbors= )\n",
    "knn.fit(X_train_scaled, y_train)\n",
    "print('k=  Test Acc: %.3f' % knn.score(X_test_scaled, y_test))"
   ]
  }
 ],
 "metadata": {
  "colab": {
   "collapsed_sections": [],
   "name": "SupervisedLearningModel_NT.ipynb",
   "provenance": []
  },
  "kernelspec": {
   "display_name": "pythondata",
   "language": "python",
   "name": "pythondata"
  },
  "language_info": {
   "codemirror_mode": {
    "name": "ipython",
    "version": 3
   },
   "file_extension": ".py",
   "mimetype": "text/x-python",
   "name": "python",
   "nbconvert_exporter": "python",
   "pygments_lexer": "ipython3",
   "version": "3.8.8"
  }
 },
 "nbformat": 4,
 "nbformat_minor": 1
}
