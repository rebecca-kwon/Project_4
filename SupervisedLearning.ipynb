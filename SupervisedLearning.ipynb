{
 "cells": [
  {
   "cell_type": "code",
   "execution_count": null,
   "metadata": {},
   "outputs": [],
   "source": [
    "#Import and create Logistic Regression Classifier\n",
    "from sklearn.linear_model import LogisticRegression\n",
    "classifier = LogisticRegression()\n",
    "classifier"
   ]
  },
  {
   "cell_type": "code",
   "execution_count": null,
   "metadata": {},
   "outputs": [],
   "source": [
    "#Fit model to reduced, scaled dataset\n",
    "classifier.fit(X_selected_train_scaled, y_train)"
   ]
  },
  {
   "cell_type": "code",
   "execution_count": null,
   "metadata": {},
   "outputs": [],
   "source": [
    "#Print model score\n",
    "print(f\"Training Data Score: {classifier.score(X_selected_train_scaled, y_train)}\")\n",
    "print(f\"Testing Data Score: {classifier.score(X_selected_test_scaled, y_test)}\")"
   ]
  },
  {
   "cell_type": "code",
   "execution_count": null,
   "metadata": {},
   "outputs": [],
   "source": [
    "#Generate Confusion Matrix for Logistic Regression\n",
    "y_pred = classifier.predict(X_selected_test_scaled)\n",
    "cm = confusion_matrix(y_test, y_pred)\n",
    "cm"
   ]
  },
  {
   "cell_type": "code",
   "execution_count": null,
   "metadata": {},
   "outputs": [],
   "source": [
    "#Generate Classification Report for Logistic Regression\n",
    "print(classification_report(y_true, y_pred))"
   ]
  },
  {
   "cell_type": "code",
   "execution_count": null,
   "metadata": {},
   "outputs": [],
   "source": [
    "#Import Linear SVC classifier\n",
    "from sklearn.svm import LinearSVC"
   ]
  },
  {
   "cell_type": "code",
   "execution_count": null,
   "metadata": {},
   "outputs": [],
   "source": [
    "#Attempt Linear Support Vector Classification\n",
    "lin_svc_classifier = LinearSVC(random_state=1).fit(X_selected_train_scaled, y_train)\n",
    "y_pred = lin_svc_classifier.predict(X_selected_test_scaled)\n",
    "print(classification_report(y_test, y_pred, target_names=target_names))\n",
    "print(f'Training Score: {lin_svc_classifier.score(X_selected_train_scaled, y_train)}')\n",
    "print(f'Testing Score: {lin_svc_classifier.score(X_selected_test_scaled, y_test)}')"
   ]
  },
  {
   "cell_type": "code",
   "execution_count": null,
   "metadata": {},
   "outputs": [],
   "source": [
    "#Import K-nearest neighbors classifier\n",
    "from sklearn.neighbors import KNeighborsClassifier"
   ]
  },
  {
   "cell_type": "code",
   "execution_count": null,
   "metadata": {},
   "outputs": [],
   "source": [
    "#Perform KNN Classificatrion, find optimal value for k\n",
    "# Note: We use only odd numbers because we don't want any ties.\n",
    "train_scores = []\n",
    "test_scores = []\n",
    "for k in range(1, 20, 2):\n",
    "    knn = KNeighborsClassifier(n_neighbors=k)\n",
    "    knn.fit(X_selected_train_scaled, y_train)\n",
    "    train_score = knn.score(X_selected_train_scaled, y_train)\n",
    "    test_score = knn.score(X_selected_test_scaled, y_test)\n",
    "    train_scores.append(train_score)\n",
    "    test_scores.append(test_score)\n",
    "    print(f\"k: {k}, Train/Test Score: {train_score:.3f}/{test_score:.3f}\")\n",
    "    \n",
    "    \n",
    "plt.plot(range(1, 20, 2), train_scores, marker='o')\n",
    "plt.plot(range(1, 20, 2), test_scores, marker=\"x\")\n",
    "plt.xlabel(\"k neighbors\")\n",
    "plt.ylabel(\"Testing accuracy Score\")\n",
    "plt.show()"
   ]
  },
  {
   "cell_type": "code",
   "execution_count": null,
   "metadata": {},
   "outputs": [],
   "source": [
    "#Using selected k value, perform KNN Classification, and print report to compare\n",
    "#k_val=\n",
    "knn_classifier = KNeighborsClassifier(n_neighbors=k_val)\n",
    "knn_classifier.fit(X_selected_train_scaled, y_train)\n",
    "y_pred = knn_classifier.predict(X_selected_test_scaled)\n",
    "print(classification_report(y_test, y_pred, target_names=target_names))\n",
    "print(f'Training Score: {knn_classifier.score(X_selected_train_scaled, y_train)}')\n",
    "print(f'Testing Score: {knn_classifier.score(X_selected_test_scaled, y_test)}')"
   ]
  },
  {
   "cell_type": "code",
   "execution_count": null,
   "metadata": {},
   "outputs": [],
   "source": [
    "#Fit RandomForestClassifier, and print classification report to compare\n",
    "rf_classifier = RandomForestClassifier(random_state=1).fit(X_selected_train_scaled, y_train)\n",
    "y_pred = rf_classifier.predict(X_selected_test_scaled)\n",
    "print(classification_report(y_test, y_pred, target_names=target_names))\n",
    "print(f'Training Score: {rf_classifier.score(X_selected_train_scaled, y_train)}')\n",
    "print(f'Testing Score: {rf_classifier.score(X_selected_test_scaled, y_test)}')"
   ]
  },
  {
   "cell_type": "code",
   "execution_count": null,
   "metadata": {},
   "outputs": [],
   "source": [
    "# Import an Extremely Random Trees classifier\n",
    "from sklearn.ensemble import ExtraTreesClassifier"
   ]
  },
  {
   "cell_type": "code",
   "execution_count": null,
   "metadata": {},
   "outputs": [],
   "source": [
    "#Fit RandomTreesClassifier, and print classification report to compare\n",
    "ext_classifier = ExtraTreesClassifier(random_state=1).fit(X_selected_train_scaled, y_train)\n",
    "y_pred = ext_classifier.predict(X_selected_test_scaled)\n",
    "print(classification_report(y_test, y_pred, target_names=target_names))\n",
    "print(f'Training Score: {ext_classifier.score(X_selected_train_scaled, y_train)}')\n",
    "print(f'Testing Score: {ext_classifier.score(X_selected_test_scaled, y_test)}')"
   ]
  },
  {
   "cell_type": "code",
   "execution_count": null,
   "metadata": {},
   "outputs": [],
   "source": []
  },
  {
   "cell_type": "code",
   "execution_count": null,
   "metadata": {},
   "outputs": [],
   "source": []
  },
  {
   "cell_type": "code",
   "execution_count": null,
   "metadata": {},
   "outputs": [],
   "source": []
  },
  {
   "cell_type": "code",
   "execution_count": null,
   "metadata": {},
   "outputs": [],
   "source": []
  },
  {
   "cell_type": "code",
   "execution_count": null,
   "metadata": {},
   "outputs": [],
   "source": []
  },
  {
   "cell_type": "code",
   "execution_count": null,
   "metadata": {},
   "outputs": [],
   "source": []
  },
  {
   "cell_type": "code",
   "execution_count": null,
   "metadata": {},
   "outputs": [],
   "source": []
  }
 ],
 "metadata": {
  "kernelspec": {
   "display_name": "Python [conda env:pythondata] *",
   "language": "python",
   "name": "conda-env-pythondata-py"
  },
  "language_info": {
   "codemirror_mode": {
    "name": "ipython",
    "version": 3
   },
   "file_extension": ".py",
   "mimetype": "text/x-python",
   "name": "python",
   "nbconvert_exporter": "python",
   "pygments_lexer": "ipython3",
   "version": "3.6.10"
  }
 },
 "nbformat": 4,
 "nbformat_minor": 4
}
